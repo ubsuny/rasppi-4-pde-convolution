{
 "cells": [
  {
   "cell_type": "markdown",
   "id": "increasing-barrier",
   "metadata": {},
   "source": [
    "# Convolutional PDEs: Problem 1"
   ]
  },
  {
   "cell_type": "code",
   "execution_count": 1,
   "id": "cross-protection",
   "metadata": {},
   "outputs": [
    {
     "name": "stdout",
     "output_type": "stream",
     "text": [
      "Populating the interactive namespace from numpy and matplotlib\n"
     ]
    }
   ],
   "source": [
    "%pylab inline"
   ]
  },
  {
   "cell_type": "code",
   "execution_count": 2,
   "id": "extended-haven",
   "metadata": {},
   "outputs": [],
   "source": [
    "N = 51\n",
    "u_init = np.zeros([N, N], dtype=np.float32)\n",
    "ut_init = np.zeros([N, N], dtype=np.float32)\n",
    "\n",
    "# initial condition\n",
    "u_init[N//2,N//2] = 10\n"
   ]
  },
  {
   "cell_type": "code",
   "execution_count": 3,
   "id": "transparent-sector",
   "metadata": {},
   "outputs": [],
   "source": [
    "LaPlace = [[0., 1., 0.],[1., -4., 1.],[0., 1., 0.]]"
   ]
  },
  {
   "cell_type": "markdown",
   "id": "unauthorized-tutorial",
   "metadata": {},
   "source": [
    "## Part A: Looping Method"
   ]
  },
  {
   "cell_type": "code",
   "execution_count": 4,
   "id": "recent-crowd",
   "metadata": {},
   "outputs": [
    {
     "name": "stdout",
     "output_type": "stream",
     "text": [
      "The program took 6.838097333908081 seconds to run.\n"
     ]
    }
   ],
   "source": [
    "U_ = u_init\n",
    "Ut_= ut_init\n",
    "lU_= np.zeros_like(ut_init)\n",
    "starttime = time.time()\n",
    "for k in range(0,50):\n",
    "    for i in range(1,u_init.shape[0]-2):\n",
    "        for j in range(1,u_init.shape[1]-2):\n",
    "            lU_[i+1,j+1] = np.sum(LaPlace*U_[i:i+3,j:j+3])/8.\n",
    "    U_  = U_+ Ut_\n",
    "    Ut_ = Ut_ + (1./4.*lU_)\n",
    "\n",
    "endtime = time.time() - starttime\n",
    "timeavg = endtime\n",
    "print(\"The looping convolution took {0} seconds to run 50 iterations.\".format(timeavg))"
   ]
  },
  {
   "cell_type": "code",
   "execution_count": 5,
   "id": "mental-thumbnail",
   "metadata": {},
   "outputs": [
    {
     "data": {
      "text/plain": [
       "<matplotlib.image.AxesImage at 0x7f8efa66a0>"
      ]
     },
     "execution_count": 5,
     "metadata": {},
     "output_type": "execute_result"
    },
    {
     "data": {
      "image/png": "[encoded data removed]",
      "text/plain": [
       "<Figure size 432x288 with 1 Axes>"
      ]
     },
     "metadata": {
      "needs_background": "light"
     },
     "output_type": "display_data"
    }
   ],
   "source": [
    "plt.imshow(U_,cmap='RdBu')"
   ]
  },
  {
   "cell_type": "code",
   "execution_count": 6,
   "id": "rolled-fever",
   "metadata": {},
   "outputs": [
    {
     "data": {
      "text/plain": [
       "[<matplotlib.lines.Line2D at 0x7f65615f28>]"
      ]
     },
     "execution_count": 6,
     "metadata": {},
     "output_type": "execute_result"
    },
    {
     "data": {
      "image/png": "[encoded data removed]",
      "text/plain": [
       "<Figure size 432x288 with 1 Axes>"
      ]
     },
     "metadata": {
      "needs_background": "light"
     },
     "output_type": "display_data"
    }
   ],
   "source": [
    "plt.plot(np.abs(U_[:,N//2]))"
   ]
  },
  {
   "cell_type": "markdown",
   "id": "spread-cotton",
   "metadata": {},
   "source": [
    "## Part B: Vectorizing the Convolution"
   ]
  },
  {
   "cell_type": "code",
   "execution_count": null,
   "id": "suffering-indonesia",
   "metadata": {},
   "outputs": [],
   "source": []
  }
 ],
 "metadata": {
  "kernelspec": {
   "display_name": "Python 3",
   "language": "python",
   "name": "python3"
  },
  "language_info": {
   "codemirror_mode": {
    "name": "ipython",
    "version": 3
   },
   "file_extension": ".py",
   "mimetype": "text/x-python",
   "name": "python",
   "nbconvert_exporter": "python",
   "pygments_lexer": "ipython3",
   "version": "3.7.3"
  }
 },
 "nbformat": 4,
 "nbformat_minor": 5
}
