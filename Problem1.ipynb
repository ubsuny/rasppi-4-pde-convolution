{
 "cells": [
  {
   "cell_type": "markdown",
   "id": "potential-destruction",
   "metadata": {},
   "source": [
    "# Convolutional PDEs"
   ]
  },
  {
   "cell_type": "markdown",
   "id": "played-shipping",
   "metadata": {},
   "source": [
    "Initial [wave equation](https://en.wikipedia.org/wiki/Wave_equation#Introduction):"
   ]
  },
  {
   "cell_type": "markdown",
   "id": "golden-piano",
   "metadata": {},
   "source": [
    "$$\\frac{{\\partial ^2 u}}{{\\partial t^2 }} = {{c^2 \\Delta u}}$$"
   ]
  },
  {
   "cell_type": "markdown",
   "id": "virtual-funeral",
   "metadata": {},
   "source": [
    "discrete equations for $u$ with a discret time interval $\\delta t$"
   ]
  },
  {
   "cell_type": "markdown",
   "id": "raising-study",
   "metadata": {},
   "source": [
    "$$\n",
    "\\begin{align} \n",
    " u_0(x,y) &= C\\\\\n",
    " u_{n+1}(x,y) &= u_n(x,y) + u'_n(x,y) \\delta t\\\\\n",
    " u'_{n+1}(x,y) &= u'_n(x,y) + u''_n(x,y) \\delta t\\\\\n",
    "\\end{align}\n",
    "$$"
   ]
  },
  {
   "cell_type": "markdown",
   "id": "aerial-bathroom",
   "metadata": {},
   "source": [
    "substituting $u''_n(x,y)$ with the RHS of the wave equation $c^2 \\Delta u $"
   ]
  },
  {
   "cell_type": "markdown",
   "id": "individual-horror",
   "metadata": {},
   "source": [
    "$$\n",
    "\\begin{align}\n",
    " u_0(x,y) &= C\\\\\n",
    " u_{n+1}(x,y) &= u_n(x,y) + u'_n(x,y) \\delta t\\\\\n",
    " u'_{n+1}(x,y) &= u'_n(x,y) + (c^2 \\Delta u ) \\delta t\\\\\n",
    "\\end{align}\n",
    "$$"
   ]
  },
  {
   "cell_type": "markdown",
   "id": "increasing-display",
   "metadata": {},
   "source": [
    "Initial conditions:"
   ]
  },
  {
   "cell_type": "code",
   "execution_count": 1,
   "id": "helpful-launch",
   "metadata": {},
   "outputs": [
    {
     "name": "stdout",
     "output_type": "stream",
     "text": [
      "Populating the interactive namespace from numpy and matplotlib\n"
     ]
    }
   ],
   "source": [
    "%pylab inline\n",
    "from scipy import signal"
   ]
  },
  {
   "cell_type": "code",
   "execution_count": 2,
   "id": "pretty-appliance",
   "metadata": {},
   "outputs": [],
   "source": [
    "N = 51\n",
    "u_init = np.zeros([N, N], dtype=np.float32)\n",
    "ut_init = np.zeros([N, N], dtype=np.float32)\n",
    "\n",
    "# initial condition\n",
    "u_init[N//2,N//2] = 10\n"
   ]
  },
  {
   "cell_type": "code",
   "execution_count": 3,
   "id": "attractive-garbage",
   "metadata": {},
   "outputs": [],
   "source": [
    "LaPlace = [[0., 1., 0.],[1., -4., 1.],[0., 1., 0.]]"
   ]
  },
  {
   "cell_type": "code",
   "execution_count": 4,
   "id": "composed-visit",
   "metadata": {},
   "outputs": [
    {
     "name": "stdout",
     "output_type": "stream",
     "text": [
      "Time: 6.08697772026062 seconds. Iterations: 50\n"
     ]
    }
   ],
   "source": [
    "U_ = u_init\n",
    "Ut_= ut_init\n",
    "lU_= np.zeros_like(ut_init)\n",
    "OrigStart = time.time()\n",
    "for k in range(0,N-1):\n",
    "    for i in range(1,u_init.shape[0]-2):\n",
    "        for j in range(1,u_init.shape[1]-2):\n",
    "            lU_[i+1,j+1] = np.sum(LaPlace*U_[i:i+3,j:j+3])/8.\n",
    "    U_  = U_+ Ut_\n",
    "    Ut_ = Ut_ + (1./4.*lU_)\n",
    "OrigEnd = time.time()\n",
    "OrigTime = OrigEnd-OrigStart\n",
    "print(\"Time: \" + str(OrigTime) + \" seconds. Iterations: \" + str(N-1))"
   ]
  },
  {
   "cell_type": "code",
   "execution_count": 5,
   "id": "respective-plane",
   "metadata": {},
   "outputs": [
    {
     "data": {
      "text/plain": [
       "<matplotlib.image.AxesImage at 0x7f738fb908>"
      ]
     },
     "execution_count": 5,
     "metadata": {},
     "output_type": "execute_result"
    },
    {
     "data": {
      "image/png": "[encoded data removed]",
      "text/plain": [
       "<Figure size 432x288 with 1 Axes>"
      ]
     },
     "metadata": {
      "needs_background": "light"
     },
     "output_type": "display_data"
    }
   ],
   "source": [
    "plt.imshow(U_,cmap='RdBu')"
   ]
  },
  {
   "cell_type": "code",
   "execution_count": 6,
   "id": "indian-emission",
   "metadata": {},
   "outputs": [
    {
     "data": {
      "text/plain": [
       "[<matplotlib.lines.Line2D at 0x7f73893fd0>]"
      ]
     },
     "execution_count": 6,
     "metadata": {},
     "output_type": "execute_result"
    },
    {
     "data": {
      "image/png": "[encoded data removed]",
      "text/plain": [
       "<Figure size 432x288 with 1 Axes>"
      ]
     },
     "metadata": {
      "needs_background": "light"
     },
     "output_type": "display_data"
    }
   ],
   "source": [
    "plt.plot(np.abs(U_[:,N//2]))"
   ]
  },
  {
   "cell_type": "markdown",
   "id": "impaired-assistant",
   "metadata": {},
   "source": [
    "# Problem 1 - For Loop"
   ]
  },
  {
   "cell_type": "code",
   "execution_count": 7,
   "id": "yellow-vision",
   "metadata": {},
   "outputs": [
    {
     "name": "stdout",
     "output_type": "stream",
     "text": [
      "Time: 0.14419102668762207 seconds. Iterations: 50\n"
     ]
    },
    {
     "name": "stderr",
     "output_type": "stream",
     "text": [
      "/usr/lib/python3/dist-packages/scipy/signal/signaltools.py:491: FutureWarning: Using a non-tuple sequence for multidimensional indexing is deprecated; use `arr[tuple(seq)]` instead of `arr[seq]`. In the future this will be interpreted as an array index, `arr[np.array(seq)]`, which will result either in an error or a different result.\n",
      "  return x[reverse].conj()\n",
      "/usr/lib/python3/dist-packages/scipy/signal/signaltools.py:251: FutureWarning: Using a non-tuple sequence for multidimensional indexing is deprecated; use `arr[tuple(seq)]` instead of `arr[seq]`. In the future this will be interpreted as an array index, `arr[np.array(seq)]`, which will result either in an error or a different result.\n",
      "  in1zpadded[sc] = in1.copy()\n"
     ]
    }
   ],
   "source": [
    "U_ = u_init\n",
    "Ut_= ut_init\n",
    "lU_= np.zeros_like(ut_init)\n",
    "\n",
    "OrigStart = time.time()\n",
    "\n",
    "for k in range(0,N-1):\n",
    "    lU_ = signal.convolve(U_,LaPlace,mode = 'same',method = 'direct')/8\n",
    "    U_  = U_+ Ut_\n",
    "    Ut_ = Ut_ + (1./4.*lU_)\n",
    "\n",
    "OrigEnd = time.time()\n",
    "OrigTime = OrigEnd-OrigStart\n",
    "print(\"Time: \" + str(OrigTime) + \" seconds. Iterations: \" + str(N-1))"
   ]
  },
  {
   "cell_type": "code",
   "execution_count": 8,
   "id": "thorough-wednesday",
   "metadata": {},
   "outputs": [
    {
     "data": {
      "text/plain": [
       "<matplotlib.image.AxesImage at 0x7f737cac50>"
      ]
     },
     "execution_count": 8,
     "metadata": {},
     "output_type": "execute_result"
    },
    {
     "data": {
      "image/png": "[encoded data removed]",
      "text/plain": [
       "<Figure size 432x288 with 1 Axes>"
      ]
     },
     "metadata": {
      "needs_background": "light"
     },
     "output_type": "display_data"
    }
   ],
   "source": [
    "plt.imshow(U_,cmap='RdBu')"
   ]
  },
  {
   "cell_type": "code",
   "execution_count": 9,
   "id": "herbal-boxing",
   "metadata": {},
   "outputs": [
    {
     "data": {
      "text/plain": [
       "[<matplotlib.lines.Line2D at 0x7f737253c8>]"
      ]
     },
     "execution_count": 9,
     "metadata": {},
     "output_type": "execute_result"
    },
    {
     "data": {
      "image/png": "[encoded data removed]",
      "text/plain": [
       "<Figure size 432x288 with 1 Axes>"
      ]
     },
     "metadata": {
      "needs_background": "light"
     },
     "output_type": "display_data"
    }
   ],
   "source": [
    "plt.plot(np.abs(U_[:,N//2]))"
   ]
  },
  {
   "cell_type": "markdown",
   "id": "permanent-james",
   "metadata": {},
   "source": [
    "# Problem 1 - Recursion"
   ]
  },
  {
   "cell_type": "code",
   "execution_count": 10,
   "id": "quantitative-doctrine",
   "metadata": {},
   "outputs": [],
   "source": [
    "def func(lU,Ut,U,LaPlace,i,N):\n",
    "    if i == N:\n",
    "        return lU,Ut,U\n",
    "    else:\n",
    "        lU = signal.convolve(U,LaPlace,mode = 'same',method = 'direct')/8\n",
    "        U  = U+ Ut\n",
    "        Ut = Ut + (1./4.*lU)\n",
    "    return func(lU,Ut,U,LaPlace,i+1,N)"
   ]
  },
  {
   "cell_type": "code",
   "execution_count": 11,
   "id": "surgical-mission",
   "metadata": {},
   "outputs": [
    {
     "name": "stdout",
     "output_type": "stream",
     "text": [
      "Time: 0.1420142650604248 seconds. Iterations: 50\n"
     ]
    }
   ],
   "source": [
    "U_ = u_init\n",
    "Ut_= ut_init\n",
    "lU_= np.zeros_like(ut_init)\n",
    "\n",
    "OrigStart = time.time()\n",
    "\n",
    "lU_,Ut_,U_ = func(lU_,Ut_,U_,LaPlace,0,N-1)\n",
    "\n",
    "OrigEnd = time.time()\n",
    "OrigTime = OrigEnd-OrigStart\n",
    "print(\"Time: \" + str(OrigTime) + \" seconds. Iterations: \" + str(N-1))"
   ]
  },
  {
   "cell_type": "code",
   "execution_count": 12,
   "id": "cellular-ecuador",
   "metadata": {},
   "outputs": [
    {
     "data": {
      "text/plain": [
       "<matplotlib.image.AxesImage at 0x7f73710128>"
      ]
     },
     "execution_count": 12,
     "metadata": {},
     "output_type": "execute_result"
    },
    {
     "data": {
      "image/png": "[encoded data removed]",
      "text/plain": [
       "<Figure size 432x288 with 1 Axes>"
      ]
     },
     "metadata": {
      "needs_background": "light"
     },
     "output_type": "display_data"
    }
   ],
   "source": [
    "plt.imshow(U_,cmap='RdBu')"
   ]
  },
  {
   "cell_type": "code",
   "execution_count": 13,
   "id": "considerable-granny",
   "metadata": {},
   "outputs": [
    {
     "data": {
      "text/plain": [
       "[<matplotlib.lines.Line2D at 0x7f7366b080>]"
      ]
     },
     "execution_count": 13,
     "metadata": {},
     "output_type": "execute_result"
    },
    {
     "data": {
      "image/png": "[encoded data removed]",
      "text/plain": [
       "<Figure size 432x288 with 1 Axes>"
      ]
     },
     "metadata": {
      "needs_background": "light"
     },
     "output_type": "display_data"
    }
   ],
   "source": [
    "plt.plot(np.abs(U_[:,N//2]))"
   ]
  }
 ],
 "metadata": {
  "kernelspec": {
   "display_name": "Python 3",
   "language": "python",
   "name": "python3"
  },
  "language_info": {
   "codemirror_mode": {
    "name": "ipython",
    "version": 3
   },
   "file_extension": ".py",
   "mimetype": "text/x-python",
   "name": "python",
   "nbconvert_exporter": "python",
   "pygments_lexer": "ipython3",
   "version": "3.7.3"
  }
 },
 "nbformat": 4,
 "nbformat_minor": 5
}
