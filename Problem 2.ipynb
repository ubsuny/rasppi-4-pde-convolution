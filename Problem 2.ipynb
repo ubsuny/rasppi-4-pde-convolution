{
 "cells": [
  {
   "cell_type": "markdown",
   "id": "textile-blake",
   "metadata": {},
   "source": [
    "# Problem 2"
   ]
  },
  {
   "cell_type": "markdown",
   "id": "dying-liver",
   "metadata": {},
   "source": [
    "We begin by importing the tensorflow library, along with the same ones used before:"
   ]
  },
  {
   "cell_type": "code",
   "execution_count": 1,
   "id": "altered-southeast",
   "metadata": {},
   "outputs": [],
   "source": [
    "import numpy as np\n",
    "import tensorflow as tf\n",
    "import time\n",
    "from time import perf_counter"
   ]
  },
  {
   "cell_type": "markdown",
   "id": "diverse-warrior",
   "metadata": {},
   "source": [
    "Initial conditions:"
   ]
  },
  {
   "cell_type": "code",
   "execution_count": 2,
   "id": "breeding-wings",
   "metadata": {},
   "outputs": [
    {
     "name": "stdout",
     "output_type": "stream",
     "text": [
      "Populating the interactive namespace from numpy and matplotlib\n"
     ]
    }
   ],
   "source": [
    "%pylab inline"
   ]
  },
  {
   "cell_type": "code",
   "execution_count": 3,
   "id": "solar-characterization",
   "metadata": {},
   "outputs": [],
   "source": [
    "N = 51\n",
    "u_init = np.zeros([N, N], dtype=np.float32)\n",
    "ut_init = np.zeros([N, N], dtype=np.float32)\n",
    "\n",
    "# initial condition\n",
    "u_init[N//2,N//2] = 10"
   ]
  },
  {
   "cell_type": "markdown",
   "id": "accredited-nancy",
   "metadata": {},
   "source": [
    "Next we define a simple kernel and convolution operation:"
   ]
  },
  {
   "cell_type": "code",
   "execution_count": 4,
   "id": "innovative-leadership",
   "metadata": {},
   "outputs": [],
   "source": [
    "def make_kernel(a):\n",
    "  \"\"\"Transform a 2D array into a convolution kernel\"\"\"\n",
    "  a = np.asarray(a)\n",
    "  a = a.reshape(list(a.shape) + [1,1])\n",
    "  return tf.constant(a, dtype=1)\n",
    "\n",
    "def simple_conv(x, k):\n",
    "  \"\"\"A simplified 2D convolution operation\"\"\"\n",
    "  x = tf.expand_dims(tf.expand_dims(x, 0), -1)\n",
    "  y = tf.nn.depthwise_conv2d(x, k, [1, 1, 1, 1], padding='SAME')\n",
    "  return y[0, :, :, 0]"
   ]
  },
  {
   "cell_type": "markdown",
   "id": "academic-calendar",
   "metadata": {},
   "source": [
    "Lastly, we define the Laplacian as before:"
   ]
  },
  {
   "cell_type": "code",
   "execution_count": 5,
   "id": "liked-rough",
   "metadata": {},
   "outputs": [],
   "source": [
    "def laplace(x):\n",
    "  \"\"\"Compute the 2D laplacian of an array\"\"\"\n",
    "  laplace_k = make_kernel([[0., 1., 0.],\n",
    "                           [1.,-4.,1.],\n",
    "                           [0., 1., 0.]])\n",
    "  return simple_conv(x, laplace_k)"
   ]
  },
  {
   "cell_type": "code",
   "execution_count": 6,
   "id": "rough-coverage",
   "metadata": {},
   "outputs": [
    {
     "data": {
      "text/plain": [
       "0.01135534000059124"
      ]
     },
     "execution_count": 6,
     "metadata": {},
     "output_type": "execute_result"
    }
   ],
   "source": [
    "U  = tf.Variable(u_init)\n",
    "Ut = tf.Variable(ut_init)\n",
    "\n",
    "start = perf_counter()\n",
    "\n",
    "# Discretized PDE rules\n",
    "U_ = U + Ut\n",
    "Ut_ = Ut + ( (1./4.) * laplace(U) )\n",
    "\n",
    "end = perf_counter()\n",
    "execution_time = (end - start)\n",
    "execution_time  "
   ]
  },
  {
   "cell_type": "markdown",
   "id": "bizarre-cleaners",
   "metadata": {},
   "source": [
    "As we can see, the convolution method, combined with a tensorflow library, yields results similar to those of the vectorization approach used in the previous problem."
   ]
  },
  {
   "cell_type": "code",
   "execution_count": null,
   "id": "suffering-beast",
   "metadata": {},
   "outputs": [],
   "source": []
  }
 ],
 "metadata": {
  "kernelspec": {
   "display_name": "Python 3",
   "language": "python",
   "name": "python3"
  },
  "language_info": {
   "codemirror_mode": {
    "name": "ipython",
    "version": 3
   },
   "file_extension": ".py",
   "mimetype": "text/x-python",
   "name": "python",
   "nbconvert_exporter": "python",
   "pygments_lexer": "ipython3",
   "version": "3.7.3"
  }
 },
 "nbformat": 4,
 "nbformat_minor": 5
}
